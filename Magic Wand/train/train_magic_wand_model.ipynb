{
  "nbformat": 4,
  "nbformat_minor": 0,
  "metadata": {
    "colab": {
      "provenance": []
    },
    "kernelspec": {
      "name": "python3",
      "display_name": "Python 3"
    },
    "accelerator": "GPU"
  },
  "cells": [
    {
      "cell_type": "markdown",
      "metadata": {
        "id": "1BtkMGSYQOTQ"
      },
      "source": [
        "# Train a gesture recognition model for microcontroller use"
      ]
    },
    {
      "cell_type": "markdown",
      "metadata": {
        "id": "LG6ErX5FRIaV"
      },
      "source": [
        "## Configure dependencies\n",
        "\n",
        "Run the following cell to ensure the correct version of TensorFlow is used."
      ]
    },
    {
      "cell_type": "code",
      "metadata": {
        "id": "h3sE3keZZnMX"
      },
      "source": [
        "%tensorflow_version 2.x\n"
      ],
      "execution_count": null,
      "outputs": []
    },
    {
      "cell_type": "markdown",
      "metadata": {
        "id": "STNft9TrfoVh"
      },
      "source": [
        "We'll also clone the TensorFlow repository, which contains the training scripts, and copy them into our workspace."
      ]
    },
    {
      "cell_type": "code",
      "source": [],
      "metadata": {
        "id": "DwgTehRXm9Bk"
      },
      "execution_count": null,
      "outputs": []
    },
    {
      "cell_type": "code",
      "metadata": {
        "id": "ygkWw73dRNda"
      },
      "source": [
        "# Clone the repository from GitHub\n",
        "!git clone --depth 1 -q https://github.com/tensorflow/tensorflow\n",
        "# Copy the training scripts into our workspace\n",
        "!cp -r /Users/ncs/project554/tensorflow2/tensorflow/lite/experimental/micro/examples/magic_wand/train train"
      ],
      "execution_count": null,
      "outputs": []
    },
    {
      "cell_type": "markdown",
      "metadata": {
        "id": "pXI7R4RehFdU"
      },
      "source": [
        "## Prepare the data\n",
        "\n",
        "Next, we'll download the data and extract it into the expected location within the training scripts' directory."
      ]
    },
    {
      "cell_type": "code",
      "metadata": {
        "id": "W2Sg2AKzVr2L"
      },
      "source": [
        "# Download the data we will use to train the model\n",
        "!wget http://download.tensorflow.org/models/tflite/magic_wand/data.tar.gz\n",
        "# Extract the data into the train directory\n",
        "!tar xvzf data.tar.gz -C train 1>/dev/null"
      ],
      "execution_count": null,
      "outputs": []
    },
    {
      "cell_type": "markdown",
      "metadata": {
        "id": "DNjukI1Sgl2C"
      },
      "source": [
        "We'll then run the scripts that split the data into training, validation, and test sets."
      ]
    },
    {
      "cell_type": "code",
      "metadata": {
        "id": "XBqSVpi6Vxss"
      },
      "source": [
        "# The scripts must be run from within the train directory\n",
        "%cd train\n",
        "# Prepare the data\n",
        "!python data_prepare.py\n",
        "# Split the data by person\n",
        "!python data_split_person.py"
      ],
      "execution_count": null,
      "outputs": []
    },
    {
      "cell_type": "markdown",
      "metadata": {
        "id": "5-cmVbFvhTvy"
      },
      "source": [
        "## Load TensorBoard\n",
        "\n",
        "Now, we set up TensorBoard so that we can graph our accuracy and loss as training proceeds."
      ]
    },
    {
      "cell_type": "code",
      "metadata": {
        "id": "CCx6SN9NWRPw"
      },
      "source": [
        "# Load TensorBoard\n",
        "%load_ext tensorboard\n",
        "%tensorboard --logdir logs/scalars"
      ],
      "execution_count": null,
      "outputs": []
    },
    {
      "cell_type": "markdown",
      "metadata": {
        "id": "ERC2Cr4PhaOl"
      },
      "source": [
        "## Begin training\n",
        "\n",
        "The following cell will begin the training process. Training will take around 5 minutes on a GPU runtime. You'll see the metrics in TensorBoard after a few epochs."
      ]
    },
    {
      "cell_type": "code",
      "metadata": {
        "id": "DXmQZgbuWQFO"
      },
      "source": [
        "!python train.py --model CNN --person true"
      ],
      "execution_count": null,
      "outputs": []
    },
    {
      "cell_type": "markdown",
      "metadata": {
        "id": "4gXbVzcXhvGD"
      },
      "source": [
        "## Create a C source file\n",
        "\n",
        "The `train.py` script writes a quantized model, `model_quantized.tflite`, to the training scripts' directory.\n",
        "\n",
        "In the following cell, we convert this model into a C++ source file we can use with TensorFlow Lite for Microcontrollers."
      ]
    },
    {
      "cell_type": "code",
      "metadata": {
        "id": "8wgei4OGe3Nz"
      },
      "source": [
        "# Install xxd if it is not available\n",
        "!apt-get -qq install xxd\n",
        "# Save the file as a C source file\n",
        "!xxd -i model_quantized.tflite > /content/model_quantized.cc\n",
        "# Print the source file\n",
        "!cat /content/model_quantized.cc"
      ],
      "execution_count": null,
      "outputs": []
    }
  ]
}